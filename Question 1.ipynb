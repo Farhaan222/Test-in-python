{
 "cells": [
  {
   "cell_type": "code",
   "execution_count": 1,
   "id": "8dac778f",
   "metadata": {},
   "outputs": [],
   "source": [
    "positive = [\"good\",\"awesome\",\"best\",\"nice\"]\n",
    "negative = [\"worst\",\"awful\"]\n",
    "comments = [\"He is a good boy\",\"Food is the worst here\",\"She is the best\",\"This pizza tastes awful\",\"These burger are really nice\"]"
   ]
  },
  {
   "cell_type": "code",
   "execution_count": 21,
   "id": "c8f1de46",
   "metadata": {},
   "outputs": [
    {
     "name": "stdout",
     "output_type": "stream",
     "text": [
      "Positive Comment\n",
      "Negative Comment\n",
      "Positive Comment\n",
      "Negative Comment\n",
      "Positive Comment\n"
     ]
    }
   ],
   "source": [
    "for i in comments:\n",
    "    l = i.split()\n",
    "    for j in l:\n",
    "        for k in negative:\n",
    "            if j == k:\n",
    "                print(\"Negative Comment\")\n",
    "        for k in positive:\n",
    "            if j == k:\n",
    "                print(\"Positive Comment\")"
   ]
  },
  {
   "cell_type": "code",
   "execution_count": null,
   "id": "05189d49",
   "metadata": {},
   "outputs": [],
   "source": []
  }
 ],
 "metadata": {
  "kernelspec": {
   "display_name": "Python 3 (ipykernel)",
   "language": "python",
   "name": "python3"
  },
  "language_info": {
   "codemirror_mode": {
    "name": "ipython",
    "version": 3
   },
   "file_extension": ".py",
   "mimetype": "text/x-python",
   "name": "python",
   "nbconvert_exporter": "python",
   "pygments_lexer": "ipython3",
   "version": "3.9.7"
  }
 },
 "nbformat": 4,
 "nbformat_minor": 5
}
