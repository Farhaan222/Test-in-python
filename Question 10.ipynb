{
 "cells": [
  {
   "cell_type": "code",
   "execution_count": 1,
   "id": "4a18656d",
   "metadata": {},
   "outputs": [],
   "source": [
    "l=[\"17-12-1997\",\"22-04-2011\",\"01-05-1993\",\"19-06-2020\"]"
   ]
  },
  {
   "cell_type": "code",
   "execution_count": 3,
   "id": "6c2f948d",
   "metadata": {},
   "outputs": [
    {
     "name": "stdout",
     "output_type": "stream",
     "text": [
      "1997\n",
      "2011\n",
      "1993\n",
      "2020\n"
     ]
    }
   ],
   "source": [
    "for i in l:\n",
    "    z=i.split('-')\n",
    "    print(z[2])"
   ]
  },
  {
   "cell_type": "code",
   "execution_count": null,
   "id": "5a9375d3",
   "metadata": {},
   "outputs": [],
   "source": []
  }
 ],
 "metadata": {
  "kernelspec": {
   "display_name": "Python 3 (ipykernel)",
   "language": "python",
   "name": "python3"
  },
  "language_info": {
   "codemirror_mode": {
    "name": "ipython",
    "version": 3
   },
   "file_extension": ".py",
   "mimetype": "text/x-python",
   "name": "python",
   "nbconvert_exporter": "python",
   "pygments_lexer": "ipython3",
   "version": "3.9.7"
  }
 },
 "nbformat": 4,
 "nbformat_minor": 5
}
